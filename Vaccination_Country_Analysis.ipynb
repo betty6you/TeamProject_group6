{
  "nbformat": 4,
  "nbformat_minor": 0,
  "metadata": {
    "colab": {
      "name": "Vaccination_Country_Analysis",
      "provenance": [],
      "include_colab_link": true
    },
    "kernelspec": {
      "name": "python3",
      "display_name": "Python 3"
    }
  },
  "cells": [
    {
      "cell_type": "markdown",
      "metadata": {
        "id": "view-in-github",
        "colab_type": "text"
      },
      "source": [
        "<a href=\"https://colab.research.google.com/github/betty6you/TeamProject_group6/blob/main/Vaccination_Country_Analysis.ipynb\" target=\"_parent\"><img src=\"https://colab.research.google.com/assets/colab-badge.svg\" alt=\"Open In Colab\"/></a>"
      ]
    },
    {
      "cell_type": "code",
      "metadata": {
        "id": "yVg8hue_81xN"
      },
      "source": [
        "\n",
        "# importing pandas module  \n",
        "import pandas as pd \n",
        "df = pd.read_csv(\"CovidVaccineWorldWide.csv\")\n"
      ],
      "execution_count": 9,
      "outputs": []
    },
    {
      "cell_type": "code",
      "metadata": {
        "colab": {
          "base_uri": "https://localhost:8080/",
          "height": 419
        },
        "id": "ZHzsNdnwZVKP",
        "outputId": "02e1de73-6603-4039-d882-9bbcde5b754d"
      },
      "source": [
        "data = df[df.Country != 'Unknown']\n",
        "data"
      ],
      "execution_count": 10,
      "outputs": [
        {
          "output_type": "execute_result",
          "data": {
            "text/html": [
              "<div>\n",
              "<style scoped>\n",
              "    .dataframe tbody tr th:only-of-type {\n",
              "        vertical-align: middle;\n",
              "    }\n",
              "\n",
              "    .dataframe tbody tr th {\n",
              "        vertical-align: top;\n",
              "    }\n",
              "\n",
              "    .dataframe thead th {\n",
              "        text-align: right;\n",
              "    }\n",
              "</style>\n",
              "<table border=\"1\" class=\"dataframe\">\n",
              "  <thead>\n",
              "    <tr style=\"text-align: right;\">\n",
              "      <th></th>\n",
              "      <th>TweetDate</th>\n",
              "      <th>TweetText</th>\n",
              "      <th>TweetAuthor</th>\n",
              "      <th>TweetLocation</th>\n",
              "      <th>AllHashtags</th>\n",
              "      <th>Country</th>\n",
              "    </tr>\n",
              "  </thead>\n",
              "  <tbody>\n",
              "    <tr>\n",
              "      <th>2</th>\n",
              "      <td>2021-03-17 23:58:31</td>\n",
              "      <td>@hendopolis Imagine if the #Brexit referendum ...</td>\n",
              "      <td>raymasseytweets</td>\n",
              "      <td>England</td>\n",
              "      <td>['Brexit', 'EU', 'TrueColours', 'Impfstoff', '...</td>\n",
              "      <td>United Kingdom</td>\n",
              "    </tr>\n",
              "    <tr>\n",
              "      <th>3</th>\n",
              "      <td>2021-03-17 23:58:03</td>\n",
              "      <td>@EICostheta @RicBarraArch1 @insiders Yep. The ...</td>\n",
              "      <td>MikeFitzAU</td>\n",
              "      <td>Mudjimba</td>\n",
              "      <td>['LiarsNParasites', 'CovidVaccine']</td>\n",
              "      <td>Australia</td>\n",
              "    </tr>\n",
              "    <tr>\n",
              "      <th>4</th>\n",
              "      <td>2021-03-17 23:57:37</td>\n",
              "      <td>This sounds like an important topic for @NickS...</td>\n",
              "      <td>stephjantzen</td>\n",
              "      <td>Greater Sacramento</td>\n",
              "      <td>['FiresideChat', 'CovidVaccine']</td>\n",
              "      <td>Brazil</td>\n",
              "    </tr>\n",
              "    <tr>\n",
              "      <th>6</th>\n",
              "      <td>2021-03-17 23:57:19</td>\n",
              "      <td>Update. 4.45pm. Back in the parking lot. Peopl...</td>\n",
              "      <td>theanthonydavis</td>\n",
              "      <td>Los Angeles</td>\n",
              "      <td>['CovidVaccine']</td>\n",
              "      <td>United States</td>\n",
              "    </tr>\n",
              "    <tr>\n",
              "      <th>7</th>\n",
              "      <td>2021-03-17 23:57:11</td>\n",
              "      <td>German Headlines \\nAngela Merkel refuses Astra...</td>\n",
              "      <td>SamanthaSAS</td>\n",
              "      <td>USA</td>\n",
              "      <td>['CovidVaccine', 'COVID19']</td>\n",
              "      <td>United States</td>\n",
              "    </tr>\n",
              "    <tr>\n",
              "      <th>...</th>\n",
              "      <td>...</td>\n",
              "      <td>...</td>\n",
              "      <td>...</td>\n",
              "      <td>...</td>\n",
              "      <td>...</td>\n",
              "      <td>...</td>\n",
              "    </tr>\n",
              "    <tr>\n",
              "      <th>363220</th>\n",
              "      <td>2021-04-03 18:39:22</td>\n",
              "      <td>RT @citymississauga: #COVID19Vaccine Booking T...</td>\n",
              "      <td>AnwarKnight</td>\n",
              "      <td>Toronto</td>\n",
              "      <td>['COVID19Vaccine']</td>\n",
              "      <td>Canada</td>\n",
              "    </tr>\n",
              "    <tr>\n",
              "      <th>363221</th>\n",
              "      <td>2021-04-03 18:39:13</td>\n",
              "      <td>RT @iamwandasykes: We’re fully vaccinated and ...</td>\n",
              "      <td>HarrisTryonLab</td>\n",
              "      <td>Dallas</td>\n",
              "      <td>[]</td>\n",
              "      <td>United States</td>\n",
              "    </tr>\n",
              "    <tr>\n",
              "      <th>363222</th>\n",
              "      <td>2021-04-03 18:39:04</td>\n",
              "      <td>#CovidVaccine and Weird Thoughts by Diane Burt...</td>\n",
              "      <td>dla1950</td>\n",
              "      <td>http://</td>\n",
              "      <td>['CovidVaccine']</td>\n",
              "      <td>Japan</td>\n",
              "    </tr>\n",
              "    <tr>\n",
              "      <th>363223</th>\n",
              "      <td>2021-04-03 18:38:54</td>\n",
              "      <td>RT @ProfPatOConnor: It’s nice to know that the...</td>\n",
              "      <td>Pepeb72</td>\n",
              "      <td>Cork</td>\n",
              "      <td>[]</td>\n",
              "      <td>Ireland</td>\n",
              "    </tr>\n",
              "    <tr>\n",
              "      <th>363224</th>\n",
              "      <td>2021-04-03 18:38:54</td>\n",
              "      <td>Finally got #Vaccinated today as per the advic...</td>\n",
              "      <td>DhawalMehta5</td>\n",
              "      <td>Jaipur</td>\n",
              "      <td>['Vaccinated', 'Vaccinations']</td>\n",
              "      <td>India</td>\n",
              "    </tr>\n",
              "  </tbody>\n",
              "</table>\n",
              "<p>245102 rows × 6 columns</p>\n",
              "</div>"
            ],
            "text/plain": [
              "                  TweetDate  ...         Country\n",
              "2       2021-03-17 23:58:31  ...  United Kingdom\n",
              "3       2021-03-17 23:58:03  ...       Australia\n",
              "4       2021-03-17 23:57:37  ...          Brazil\n",
              "6       2021-03-17 23:57:19  ...   United States\n",
              "7       2021-03-17 23:57:11  ...   United States\n",
              "...                     ...  ...             ...\n",
              "363220  2021-04-03 18:39:22  ...          Canada\n",
              "363221  2021-04-03 18:39:13  ...   United States\n",
              "363222  2021-04-03 18:39:04  ...           Japan\n",
              "363223  2021-04-03 18:38:54  ...         Ireland\n",
              "363224  2021-04-03 18:38:54  ...           India\n",
              "\n",
              "[245102 rows x 6 columns]"
            ]
          },
          "metadata": {
            "tags": []
          },
          "execution_count": 10
        }
      ]
    },
    {
      "cell_type": "code",
      "metadata": {
        "colab": {
          "base_uri": "https://localhost:8080/",
          "height": 419
        },
        "id": "_qGd9FYmC-84",
        "outputId": "6e395c47-c6f8-44de-8ba2-04eaff732b3a"
      },
      "source": [
        "# Filtering the data set to represent bar graph\n",
        "dataFr = pd.DataFrame(data.Country.value_counts().loc[lambda x : x>39].reset_index().values, columns=[\"Tweet_Country\", \"Vaccination_Count\"])\n",
        "dataFrame = dataFr.sort_index(axis = 1)\n",
        "dataFrame\n",
        "\n",
        "\n"
      ],
      "execution_count": 11,
      "outputs": [
        {
          "output_type": "execute_result",
          "data": {
            "text/html": [
              "<div>\n",
              "<style scoped>\n",
              "    .dataframe tbody tr th:only-of-type {\n",
              "        vertical-align: middle;\n",
              "    }\n",
              "\n",
              "    .dataframe tbody tr th {\n",
              "        vertical-align: top;\n",
              "    }\n",
              "\n",
              "    .dataframe thead th {\n",
              "        text-align: right;\n",
              "    }\n",
              "</style>\n",
              "<table border=\"1\" class=\"dataframe\">\n",
              "  <thead>\n",
              "    <tr style=\"text-align: right;\">\n",
              "      <th></th>\n",
              "      <th>Tweet_Country</th>\n",
              "      <th>Vaccination_Count</th>\n",
              "    </tr>\n",
              "  </thead>\n",
              "  <tbody>\n",
              "    <tr>\n",
              "      <th>0</th>\n",
              "      <td>United States</td>\n",
              "      <td>97394</td>\n",
              "    </tr>\n",
              "    <tr>\n",
              "      <th>1</th>\n",
              "      <td>United Kingdom</td>\n",
              "      <td>32531</td>\n",
              "    </tr>\n",
              "    <tr>\n",
              "      <th>2</th>\n",
              "      <td>Canada</td>\n",
              "      <td>29350</td>\n",
              "    </tr>\n",
              "    <tr>\n",
              "      <th>3</th>\n",
              "      <td>India</td>\n",
              "      <td>27646</td>\n",
              "    </tr>\n",
              "    <tr>\n",
              "      <th>4</th>\n",
              "      <td>Australia</td>\n",
              "      <td>5039</td>\n",
              "    </tr>\n",
              "    <tr>\n",
              "      <th>...</th>\n",
              "      <td>...</td>\n",
              "      <td>...</td>\n",
              "    </tr>\n",
              "    <tr>\n",
              "      <th>115</th>\n",
              "      <td>Albania</td>\n",
              "      <td>44</td>\n",
              "    </tr>\n",
              "    <tr>\n",
              "      <th>116</th>\n",
              "      <td>Liberia</td>\n",
              "      <td>43</td>\n",
              "    </tr>\n",
              "    <tr>\n",
              "      <th>117</th>\n",
              "      <td>Libya</td>\n",
              "      <td>42</td>\n",
              "    </tr>\n",
              "    <tr>\n",
              "      <th>118</th>\n",
              "      <td>Afghanistan</td>\n",
              "      <td>40</td>\n",
              "    </tr>\n",
              "    <tr>\n",
              "      <th>119</th>\n",
              "      <td>Falkland Islands</td>\n",
              "      <td>40</td>\n",
              "    </tr>\n",
              "  </tbody>\n",
              "</table>\n",
              "<p>120 rows × 2 columns</p>\n",
              "</div>"
            ],
            "text/plain": [
              "        Tweet_Country Vaccination_Count\n",
              "0       United States             97394\n",
              "1      United Kingdom             32531\n",
              "2              Canada             29350\n",
              "3               India             27646\n",
              "4           Australia              5039\n",
              "..                ...               ...\n",
              "115           Albania                44\n",
              "116           Liberia                43\n",
              "117             Libya                42\n",
              "118       Afghanistan                40\n",
              "119  Falkland Islands                40\n",
              "\n",
              "[120 rows x 2 columns]"
            ]
          },
          "metadata": {
            "tags": []
          },
          "execution_count": 11
        }
      ]
    },
    {
      "cell_type": "code",
      "metadata": {
        "colab": {
          "base_uri": "https://localhost:8080/",
          "height": 601
        },
        "id": "W5n5V8jEHbiY",
        "outputId": "2ac1ed43-e447-4f06-dd82-e813c2ac2000"
      },
      "source": [
        "import matplotlib.pyplot as plt\n",
        "\n",
        "fig=data['Country'].value_counts(normalize=True)[:20].plot(kind='barh',fontsize=20,figsize=(15,10))\n",
        "plt.savefig('country.png',dpi=300)"
      ],
      "execution_count": 25,
      "outputs": [
        {
          "output_type": "display_data",
          "data": {
            "image/png": "[encoded data removed]",
            "text/plain": [
              "<Figure size 1080x720 with 1 Axes>"
            ]
          },
          "metadata": {
            "tags": [],
            "needs_background": "light"
          }
        }
      ]
    }
  ]
}